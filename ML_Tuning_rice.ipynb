{
 "cells": [
  {
   "cell_type": "markdown",
   "metadata": {},
   "source": [
    "### Tuning Machine Learning Hyperparameters using Evolutionary Computing \n",
    "\n",
    "Many machine learning algorithms require a set of hyper parameters during its learning phase. These hyper parameters affect the training procedure and hence the machine learning algorithm's accuracy.\n",
    "\n",
    "For example in sci-kit learn library for decision tree, there are hyper parameters such as max depth of the tree, tree splitting strategy and minimum samples to split a node. Each of these parameters affects the way the decision tree is constructed during the learning process, and their combined effect on the results of the learning process – and, consequently, on the performance of the model – can be significant.\n",
    "\n",
    "As the choice of hyper parameter impacts on the performance of the machine learning model, we need to tune these hyper parameters to obtain the best possible results. \n",
    "\n",
    "A common way to find which hyper parameters are the best is too use grid search. This approach requires systematic search by changing the parameters one by one. \n",
    "\n",
    "As an example, given the Decision Tree classifier, we can choose the subset of\n",
    "values {2, 5, 10} for the max_depth parameter, while, for the splitter parameter, we choose both possible values – {\"best\", \"random\"}. Then, we try out all six possible combinations of these values. For each combination, the classifier is trained and evaluated for a certain performance criterion, for example, accuracy. At the end of the process, we pick the combination of hyperparameter values that yielded the best performance. The main drawback of the grid search is the exhaustive search it conducts over all the\n",
    "possible combinations, which can prove very lengthy.\n",
    "\n",
    "A better option – that is of particular interest to this course – when it comes to performing the search, is to harness an evolutionary algorithm to look for the best combination(s) of hyperparameters within the predefined grid. This method offers the potential for finding the best grid combinations in a shorter amount of time than the original, exhaustive grid search.\n"
   ]
  },
  {
   "cell_type": "markdown",
   "metadata": {},
   "source": [
    "### Dataset \n",
    "\n",
    "Let's get the wine dataset from UCI Machine Learning database. The dataset contains the results of a chemical analysis that was conducted for 178 different wines that were grown in the same region in Italy and categorizes these wines into one of three types.\n",
    "\n",
    "\n",
    "\n",
    "The chemical analysis consists of 13 different measurements, representing the quantities of the following constituents that are found in each wine:\n",
    "   - Alcohol\n",
    "   -  Malic acid\n",
    "   -  Ash\n",
    "   -  Alkalinity of ash\n",
    "   -  Magnesium\n",
    "   -  Total phenols\n",
    "   -  Flavanoids\n",
    "   -  Nonflavanoid phenols\n",
    "   -  Proanthocyanins\n",
    "   -  Color intensity\n",
    "   -  Hue\n",
    "   -  OD280/OD315 of diluted wines\n",
    "   -  Proline\n",
    "\n",
    "Columns 2-14 of the dataset contain the values for the preceding measurements, while the classification outcome – the wine type itself (1, 2, or 3) – is found in the first column."
   ]
  },
  {
   "cell_type": "code",
   "execution_count": 1,
   "metadata": {},
   "outputs": [
    {
     "data": {
      "text/html": [
       "<div><div id=7f3fae45-2366-4bb2-916c-7730445a73d7 style=\"display:none; background-color:#9D6CFF; color:white; width:200px; height:30px; padding-left:5px; border-radius:4px; flex-direction:row; justify-content:space-around; align-items:center;\" onmouseover=\"this.style.backgroundColor='#BA9BF8'\" onmouseout=\"this.style.backgroundColor='#9D6CFF'\" onclick=\"window.commands?.execute('create-mitosheet-from-dataframe-output');\">See Full Dataframe in Mito</div> <script> if (window.commands.hasCommand('create-mitosheet-from-dataframe-output')) document.getElementById('7f3fae45-2366-4bb2-916c-7730445a73d7').style.display = 'flex' </script> <table border=\"1\" class=\"dataframe\">\n",
       "  <thead>\n",
       "    <tr style=\"text-align: right;\">\n",
       "      <th></th>\n",
       "      <th>0</th>\n",
       "      <th>1</th>\n",
       "      <th>2</th>\n",
       "      <th>3</th>\n",
       "      <th>4</th>\n",
       "      <th>5</th>\n",
       "      <th>6</th>\n",
       "      <th>7</th>\n",
       "      <th>8</th>\n",
       "      <th>9</th>\n",
       "    </tr>\n",
       "  </thead>\n",
       "  <tbody>\n",
       "    <tr>\n",
       "      <th>0</th>\n",
       "      <td>4537</td>\n",
       "      <td>92.229316</td>\n",
       "      <td>64.012769</td>\n",
       "      <td>0.719916</td>\n",
       "      <td>4677</td>\n",
       "      <td>76.004525</td>\n",
       "      <td>0.657536</td>\n",
       "      <td>273.085</td>\n",
       "      <td>0.764510</td>\n",
       "      <td>1.440796</td>\n",
       "    </tr>\n",
       "    <tr>\n",
       "      <th>1</th>\n",
       "      <td>2872</td>\n",
       "      <td>74.691881</td>\n",
       "      <td>51.400454</td>\n",
       "      <td>0.725553</td>\n",
       "      <td>3015</td>\n",
       "      <td>60.471018</td>\n",
       "      <td>0.713009</td>\n",
       "      <td>208.317</td>\n",
       "      <td>0.831658</td>\n",
       "      <td>1.453137</td>\n",
       "    </tr>\n",
       "    <tr>\n",
       "      <th>2</th>\n",
       "      <td>3048</td>\n",
       "      <td>76.293164</td>\n",
       "      <td>52.043491</td>\n",
       "      <td>0.731211</td>\n",
       "      <td>3132</td>\n",
       "      <td>62.296341</td>\n",
       "      <td>0.759153</td>\n",
       "      <td>210.012</td>\n",
       "      <td>0.868434</td>\n",
       "      <td>1.465950</td>\n",
       "    </tr>\n",
       "    <tr>\n",
       "      <th>3</th>\n",
       "      <td>3073</td>\n",
       "      <td>77.033628</td>\n",
       "      <td>51.928487</td>\n",
       "      <td>0.738639</td>\n",
       "      <td>3157</td>\n",
       "      <td>62.551300</td>\n",
       "      <td>0.783529</td>\n",
       "      <td>210.657</td>\n",
       "      <td>0.870203</td>\n",
       "      <td>1.483456</td>\n",
       "    </tr>\n",
       "    <tr>\n",
       "      <th>4</th>\n",
       "      <td>3693</td>\n",
       "      <td>85.124785</td>\n",
       "      <td>56.374021</td>\n",
       "      <td>0.749282</td>\n",
       "      <td>3802</td>\n",
       "      <td>68.571668</td>\n",
       "      <td>0.769375</td>\n",
       "      <td>230.332</td>\n",
       "      <td>0.874743</td>\n",
       "      <td>1.510000</td>\n",
       "    </tr>\n",
       "    <tr>\n",
       "      <th>...</th>\n",
       "      <td>...</td>\n",
       "      <td>...</td>\n",
       "      <td>...</td>\n",
       "      <td>...</td>\n",
       "      <td>...</td>\n",
       "      <td>...</td>\n",
       "      <td>...</td>\n",
       "      <td>...</td>\n",
       "      <td>...</td>\n",
       "      <td>...</td>\n",
       "    </tr>\n",
       "    <tr>\n",
       "      <th>18180</th>\n",
       "      <td>5853</td>\n",
       "      <td>148.624571</td>\n",
       "      <td>51.029281</td>\n",
       "      <td>0.939210</td>\n",
       "      <td>6008</td>\n",
       "      <td>86.326537</td>\n",
       "      <td>0.498594</td>\n",
       "      <td>332.960</td>\n",
       "      <td>0.663444</td>\n",
       "      <td>2.912535</td>\n",
       "    </tr>\n",
       "    <tr>\n",
       "      <th>18181</th>\n",
       "      <td>7585</td>\n",
       "      <td>169.593996</td>\n",
       "      <td>58.141659</td>\n",
       "      <td>0.939398</td>\n",
       "      <td>7806</td>\n",
       "      <td>98.272692</td>\n",
       "      <td>0.647461</td>\n",
       "      <td>385.506</td>\n",
       "      <td>0.641362</td>\n",
       "      <td>2.916910</td>\n",
       "    </tr>\n",
       "    <tr>\n",
       "      <th>18182</th>\n",
       "      <td>6365</td>\n",
       "      <td>154.777085</td>\n",
       "      <td>52.908085</td>\n",
       "      <td>0.939760</td>\n",
       "      <td>6531</td>\n",
       "      <td>90.023162</td>\n",
       "      <td>0.561287</td>\n",
       "      <td>342.253</td>\n",
       "      <td>0.682832</td>\n",
       "      <td>2.925396</td>\n",
       "    </tr>\n",
       "    <tr>\n",
       "      <th>18183</th>\n",
       "      <td>5960</td>\n",
       "      <td>151.397924</td>\n",
       "      <td>51.474600</td>\n",
       "      <td>0.940427</td>\n",
       "      <td>6189</td>\n",
       "      <td>87.112041</td>\n",
       "      <td>0.492399</td>\n",
       "      <td>343.371</td>\n",
       "      <td>0.635227</td>\n",
       "      <td>2.941216</td>\n",
       "    </tr>\n",
       "    <tr>\n",
       "      <th>18184</th>\n",
       "      <td>6134</td>\n",
       "      <td>153.081981</td>\n",
       "      <td>51.590606</td>\n",
       "      <td>0.941500</td>\n",
       "      <td>6283</td>\n",
       "      <td>88.374495</td>\n",
       "      <td>0.489975</td>\n",
       "      <td>338.613</td>\n",
       "      <td>0.672274</td>\n",
       "      <td>2.967245</td>\n",
       "    </tr>\n",
       "  </tbody>\n",
       "</table></div>"
      ],
      "text/plain": [
       "          0           1          2         3     4          5         6  \\\n",
       "0      4537   92.229316  64.012769  0.719916  4677  76.004525  0.657536   \n",
       "1      2872   74.691881  51.400454  0.725553  3015  60.471018  0.713009   \n",
       "2      3048   76.293164  52.043491  0.731211  3132  62.296341  0.759153   \n",
       "3      3073   77.033628  51.928487  0.738639  3157  62.551300  0.783529   \n",
       "4      3693   85.124785  56.374021  0.749282  3802  68.571668  0.769375   \n",
       "...     ...         ...        ...       ...   ...        ...       ...   \n",
       "18180  5853  148.624571  51.029281  0.939210  6008  86.326537  0.498594   \n",
       "18181  7585  169.593996  58.141659  0.939398  7806  98.272692  0.647461   \n",
       "18182  6365  154.777085  52.908085  0.939760  6531  90.023162  0.561287   \n",
       "18183  5960  151.397924  51.474600  0.940427  6189  87.112041  0.492399   \n",
       "18184  6134  153.081981  51.590606  0.941500  6283  88.374495  0.489975   \n",
       "\n",
       "             7         8         9  \n",
       "0      273.085  0.764510  1.440796  \n",
       "1      208.317  0.831658  1.453137  \n",
       "2      210.012  0.868434  1.465950  \n",
       "3      210.657  0.870203  1.483456  \n",
       "4      230.332  0.874743  1.510000  \n",
       "...        ...       ...       ...  \n",
       "18180  332.960  0.663444  2.912535  \n",
       "18181  385.506  0.641362  2.916910  \n",
       "18182  342.253  0.682832  2.925396  \n",
       "18183  343.371  0.635227  2.941216  \n",
       "18184  338.613  0.672274  2.967245  \n",
       "\n",
       "[18185 rows x 10 columns]"
      ]
     },
     "execution_count": 1,
     "metadata": {},
     "output_type": "execute_result"
    }
   ],
   "source": [
    "import numpy as np\n",
    "from pandas import read_csv\n",
    "\n",
    "url = 'riceClassification.csv'\n",
    "\n",
    "data = read_csv(url, header=None, usecols=range(0, 11))\n",
    "X = data.iloc[:, 0:10]\n",
    "y = data.iloc[:, 10]\n",
    "X"
   ]
  },
  {
   "cell_type": "markdown",
   "metadata": {},
   "source": [
    "X are the dataset attributes from column 1 to 14. Column 0 is the class. "
   ]
  },
  {
   "cell_type": "markdown",
   "metadata": {},
   "source": [
    "For the classifier we are going to use `ADABoost` classifier. It uses a boosting algorithm where individual weak classifiers are combined to create a powerful classifier. The sklearn library's implementation of this model, `AdaboostClassifier`,uses several hyperparameters, some of which are as follows:\n",
    "\n",
    " - n_estimators : integer: the number of weak learners\n",
    " - learning_rate : float :\n",
    " - algorithm : {SAMME, SAMME.R} :real or discrete boosting\n",
    "\n",
    "These are the parameters we are going to optimize. If we set these hyper parameters to be:\n",
    "\n",
    " - The n_estimators parameter is tested across 10 values, linearly spaced between 10 and 100.\n",
    " - The learning_rate parameter is tested across 10 values, logarithmically spaced between 0.1 ($10^{-2}$) and 1 ($10^0$).\n",
    " - Both possible values of the algorithm parameter, 'SAMME' and 'SAMME.R', are tested.\n",
    "\n",
    "This will create a total of 10x10x2=200 combinations to be tested. \n",
    "\n",
    "Notes: https://scikitlearn.org/stable/modules/generated/sklearn.ensemble.AdaBoostClassifier.html"
   ]
  },
  {
   "cell_type": "markdown",
   "metadata": {},
   "source": [
    "### Chromosomes \n",
    "\n",
    "We need to create the genetic individuals (chromosome) with these hyper parameters. Let's see how we can create them ...\n",
    "\n",
    "Remember we need to define the Individual type with creator. Then we need to fill it up with the appropriate function in IndividualCreator. With the IndividualCreator then we fill up the population."
   ]
  },
  {
   "cell_type": "code",
   "execution_count": 2,
   "metadata": {},
   "outputs": [],
   "source": [
    "from deap import base\n",
    "from deap import creator\n",
    "from deap import tools\n",
    "import random\n",
    "\n",
    "# define a single objective, maximizing fitness strategy:\n",
    "creator.create(\"FitnessMax\", base.Fitness, weights=(1.0,))\n",
    "# create the Individual class based on list:\n",
    "creator.create(\"Individual\", list, fitness=creator.FitnessMax)\n"
   ]
  },
  {
   "cell_type": "markdown",
   "metadata": {},
   "source": [
    "### Creating the individual\n",
    "\n",
    "In order to fill up the individual chromosome, the DEAP toolbox provides 3 choices:\n",
    "\n",
    "- initRepeat\n",
    "- initIterate\n",
    "- initCycle\n",
    "\n",
    "`initRepeat` is for filling up the Individual with a single function call in a repeated loop.\n",
    "\n",
    "`initIterate` is for filling up the Individual with a Generator that remembers which previous values have been called.\n",
    "\n",
    "`initCycle` is for filling up the Individual with multiple functions that can be called repeatedly (if n is greater than 1)."
   ]
  },
  {
   "cell_type": "code",
   "execution_count": 3,
   "metadata": {},
   "outputs": [],
   "source": [
    "toolbox = base.Toolbox()\n",
    "# fill in the with random floats for each type of hyper parameter\n",
    "toolbox.register(\"h1\", random.uniform,1,100)\n",
    "toolbox.register(\"h2\", random.uniform,0.01,1.0)\n",
    "toolbox.register(\"h3\", random.uniform,1,20)\n",
    "\n",
    "toolbox.register(\"IndividualCreator\",tools.initCycle,creator.Individual,\n",
    "                 (toolbox.h1,toolbox.h2,toolbox.h3),n=1)"
   ]
  },
  {
   "cell_type": "code",
   "execution_count": 16,
   "metadata": {},
   "outputs": [
    {
     "name": "stdout",
     "output_type": "stream",
     "text": [
      "[69.21775141184514, 0.5312243671762628, 2.700150888494897]\n",
      "[9.04765911758967, 0.33753062575009884, 19.1110698361401]\n"
     ]
    }
   ],
   "source": [
    "# Test IndividualCreator\n",
    "for i in range(2):\n",
    "    print(toolbox.IndividualCreator())"
   ]
  },
  {
   "cell_type": "markdown",
   "metadata": {},
   "source": [
    "### Individual Chromosome to Hyper Parameter\n",
    "\n",
    "We need to convert back the Individual chromosome back to hyper parameter values.\n"
   ]
  },
  {
   "cell_type": "code",
   "execution_count": 8,
   "metadata": {},
   "outputs": [],
   "source": [
    "a = [32.96578879203422, 0.43511523698489224, 1.4889191294943279]"
   ]
  },
  {
   "cell_type": "code",
   "execution_count": 9,
   "metadata": {},
   "outputs": [],
   "source": [
    "def getParams(individual):\n",
    "    n_est = round(individual[0])\n",
    "    crit = [\"gini\", \"entropy\"][round(individual[1])] \n",
    "    mx_dep = round(individual[2])\n",
    "    return n_est, crit, mx_dep"
   ]
  },
  {
   "cell_type": "code",
   "execution_count": 10,
   "metadata": {},
   "outputs": [
    {
     "data": {
      "text/plain": [
       "(33, 'gini', 1)"
      ]
     },
     "execution_count": 10,
     "metadata": {},
     "output_type": "execute_result"
    }
   ],
   "source": [
    "getParams(a)"
   ]
  },
  {
   "cell_type": "markdown",
   "metadata": {},
   "source": [
    "## Fitness Evaluation\n",
    "\n",
    "We use the accuracy of the machine learning algorithm - AdaBoostClassifier - for evaluation of the hyper parameters. "
   ]
  },
  {
   "cell_type": "code",
   "execution_count": 11,
   "metadata": {},
   "outputs": [],
   "source": [
    "from sklearn import model_selection\n",
    "from sklearn.ensemble import AdaBoostClassifier, RandomForestClassifier\n",
    "\n",
    "kfold = model_selection.KFold(n_splits=10, random_state=42, shuffle=True)\n",
    "\n",
    "def getAccuracy(individual):\n",
    "    n_estimators, criterion, max_depth = getParams(individual)\n",
    "    classifier = RandomForestClassifier(random_state=42,\n",
    "                                        n_estimators=n_estimators,\n",
    "                                        criterion=criterion,\n",
    "                                        max_depth=max_depth\n",
    "                                        )\n",
    "\n",
    "    cv_results = model_selection.cross_val_score(classifier,\n",
    "                                                 X,\n",
    "                                                 y,\n",
    "                                                 cv=kfold,\n",
    "                                                 scoring='accuracy')\n",
    "    return cv_results.mean()"
   ]
  },
  {
   "cell_type": "markdown",
   "metadata": {},
   "source": [
    "### Population and Evaluation Fitness\n",
    "\n",
    "We register PopulationCreator and Evaluate with toolboox."
   ]
  },
  {
   "cell_type": "code",
   "execution_count": 12,
   "metadata": {},
   "outputs": [],
   "source": [
    "# create the population operator to generate a list of individuals:\n",
    "toolbox.register(\"populationCreator\", tools.initRepeat, list, \n",
    "                 toolbox.IndividualCreator)\n",
    "# fitness calculation\n",
    "def classificationAccuracy(individual):\n",
    "    return getAccuracy(individual),\n",
    "\n",
    "toolbox.register(\"evaluate\", classificationAccuracy)\n"
   ]
  },
  {
   "cell_type": "markdown",
   "metadata": {},
   "source": [
    "###  Selection, Mutation and Crossover\n",
    "\n",
    "Lookup here: https://deap.readthedocs.io/en/master/api/tools.html#module-deap.tools"
   ]
  },
  {
   "cell_type": "code",
   "execution_count": 13,
   "metadata": {},
   "outputs": [],
   "source": [
    "# genetic operators:\n",
    "# YOUR TASK fill in your own operators\n",
    "\n",
    "toolbox.register(\"mate\", tools.cxUniform, indpb = 0.7)\n",
    "toolbox.register(\"mutate\", tools.mutGaussian, mu=[20,0.2,0.2], sigma=[5,0.1,0.1], indpb=0.2)\n",
    "toolbox.register(\"select\", tools.selTournament, tournsize=3)"
   ]
  },
  {
   "cell_type": "markdown",
   "metadata": {},
   "source": [
    "## The main algorithm"
   ]
  },
  {
   "cell_type": "code",
   "execution_count": 17,
   "metadata": {
    "tags": []
   },
   "outputs": [
    {
     "name": "stdout",
     "output_type": "stream",
     "text": [
      "gen\tnevals\tmax     \tavg     \n",
      "0  \t5     \t0.990487\t0.989651\n",
      "1  \t5     \t0.990487\t0.990377\n",
      "2  \t5     \t0.990487\t0.990443\n",
      "3  \t5     \t0.990487\t0.990476\n",
      "4  \t5     \t0.990487\t0.990487\n",
      "5  \t5     \t0.990487\t0.990443\n",
      "- Best solution is: \n",
      "params =  [78.75844315985037, 0.18640307534680517, 15.017021730830045]\n",
      "Accuracy = 0.99049\n"
     ]
    }
   ],
   "source": [
    "from deap import algorithms\n",
    "\n",
    "# Genetic Algorithm constants:\n",
    "POPULATION_SIZE = 5\n",
    "P_CROSSOVER = 0.9  # probability for crossover\n",
    "P_MUTATION = 0.5   # probability for mutating an individual\n",
    "MAX_GENERATIONS = 10\n",
    "HALL_OF_FAME_SIZE = 5\n",
    "\n",
    "# create initial population (generation 0):\n",
    "population = toolbox.populationCreator(n=POPULATION_SIZE)\n",
    "\n",
    "# prepare the statistics object:\n",
    "stats = tools.Statistics(lambda ind: ind.fitness.values)\n",
    "stats.register(\"max\", np.max)\n",
    "stats.register(\"avg\", np.mean)\n",
    "\n",
    "# define the hall-of-fame object:\n",
    "hof = tools.HallOfFame(HALL_OF_FAME_SIZE)\n",
    "\n",
    "# perform the Genetic Algorithm flow with hof feature added:\n",
    "population, logbook = algorithms.eaSimple(population,\n",
    "                                          toolbox,\n",
    "                                          cxpb=P_CROSSOVER,\n",
    "                                          mutpb=P_MUTATION,\n",
    "                                          ngen=MAX_GENERATIONS,\n",
    "                                          stats=stats,\n",
    "                                          halloffame=hof,\n",
    "                                          verbose=True)\n",
    "\n",
    "# print best solution found:\n",
    "print(\"- Best solution is: \")\n",
    "print(\"params = \", hof.items[0])\n",
    "print(\"Accuracy = %1.5f\" % hof.items[0].fitness.values[0])"
   ]
  }
 ],
 "metadata": {
  "kernelspec": {
   "display_name": "Python 3 (ipykernel)",
   "language": "python",
   "name": "python3"
  },
  "language_info": {
   "codemirror_mode": {
    "name": "ipython",
    "version": 3
   },
   "file_extension": ".py",
   "mimetype": "text/x-python",
   "name": "python",
   "nbconvert_exporter": "python",
   "pygments_lexer": "ipython3",
   "version": "3.9.7"
  }
 },
 "nbformat": 4,
 "nbformat_minor": 4
}
