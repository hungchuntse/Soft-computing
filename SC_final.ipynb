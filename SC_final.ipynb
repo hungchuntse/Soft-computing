{
 "cells": [
  {
   "cell_type": "code",
   "execution_count": 1,
   "metadata": {},
   "outputs": [],
   "source": [
    "import numpy as np\n",
    "import pandas as pd"
   ]
  },
  {
   "cell_type": "code",
   "execution_count": 2,
   "metadata": {},
   "outputs": [],
   "source": [
    "data1 = pd.read_csv(\"glass.csv\")\n",
    "data1\n",
    "X1 = data1.iloc[:, :9]\n",
    "y1 = data1.iloc[:, 9]"
   ]
  },
  {
   "cell_type": "code",
   "execution_count": 3,
   "metadata": {},
   "outputs": [],
   "source": [
    "data2 = pd.read_csv(\"riceClassification.csv\")\n",
    "data2\n",
    "X2 = data2.iloc[:, 1:11]\n",
    "y2 = data2.iloc[:, 11]"
   ]
  },
  {
   "cell_type": "code",
   "execution_count": null,
   "metadata": {},
   "outputs": [],
   "source": []
  },
  {
   "cell_type": "markdown",
   "metadata": {},
   "source": [
    "### Chromosomes \n",
    "\n",
    "We need to create the genetic individuals (chromosome) with these hyper parameters. Let's see how we can create them ...\n",
    "\n",
    "Remember we need to define the Individual type with creator. Then we need to fill it up with the appropriate function in IndividualCreator. With the IndividualCreator then we fill up the population."
   ]
  },
  {
   "cell_type": "code",
   "execution_count": 4,
   "metadata": {},
   "outputs": [],
   "source": [
    "from deap import base\n",
    "from deap import creator\n",
    "from deap import tools\n",
    "import random\n",
    "\n",
    "creator.create(\"FitnessMax\", base.Fitness, weights=(1.0,))\n",
    "creator.create(\"Individual\", list, fitness=creator.FitnessMax)\n",
    "\n",
    "\n",
    "# define a single objective, maximizing fitness strategy:\n",
    "# create the Individual class based on list:\n"
   ]
  },
  {
   "cell_type": "markdown",
   "metadata": {},
   "source": [
    "### Creating the individual\n",
    "\n",
    "In order to fill up the individual chromosome, the DEAP toolbox provides 3 choices:\n",
    "\n",
    "- initRepeat\n",
    "- initIterate\n",
    "- initCycle\n",
    "\n",
    "`initRepeat` is for filling up the Individual with a single function call in a repeated loop.\n",
    "\n",
    "`initIterate` is for filling up the Individual with a Generator that remembers which previous values have been called.\n",
    "\n",
    "`initCycle` is for filling up the Individual with multiple functions that can be called repeatedly (if n is greater than 1)."
   ]
  },
  {
   "cell_type": "code",
   "execution_count": 5,
   "metadata": {},
   "outputs": [],
   "source": [
    "toolbox = base.Toolbox()\n",
    "toolbox.register(\"h1\", random.uniform,1,100)\n",
    "toolbox.register(\"h2\", random.uniform,1,10)\n",
    "toolbox.register(\"h3\", random.uniform,0,1)\n",
    "toolbox.register(\"IndividualCreator\",tools.initCycle,creator.Individual,\n",
    "                 (toolbox.h1,toolbox.h2,toolbox.h3),n=1)\n",
    "\n",
    "# fill in the with random floats for each type of hyper parameter"
   ]
  },
  {
   "cell_type": "code",
   "execution_count": 6,
   "metadata": {},
   "outputs": [
    {
     "name": "stdout",
     "output_type": "stream",
     "text": [
      "[37.02545539539016, 9.046544468999498, 0.8689302277201331]\n",
      "[75.22107954726013, 2.1489550285176975, 0.10961637390943546]\n",
      "[48.10864187205121, 4.019294081923508, 0.6409282190789272]\n",
      "[73.53676585773505, 4.858646145863747, 0.43156932615668064]\n",
      "[95.4691672280852, 8.20922251906261, 0.23799431877549093]\n",
      "[78.18287622647787, 4.9663605694206545, 0.32899067499399537]\n",
      "[66.42844797350672, 1.289796237245516, 0.7934422384880807]\n",
      "[83.58110872856672, 7.729786571619465, 0.6232787750707485]\n",
      "[58.257093503916224, 1.177759655767333, 0.5335846300219832]\n",
      "[38.13037018425884, 4.803456977199684, 0.5567419018930078]\n"
     ]
    }
   ],
   "source": [
    "# Test IndividualCreator\n",
    "for i in range(10):\n",
    "    print(toolbox.IndividualCreator())"
   ]
  },
  {
   "cell_type": "code",
   "execution_count": null,
   "metadata": {},
   "outputs": [],
   "source": []
  },
  {
   "cell_type": "markdown",
   "metadata": {},
   "source": [
    "### Individual Chromosome to Hyper Parameter\n",
    "\n",
    "We need to convert back the Individual chromosome back to hyper parameter values.\n"
   ]
  },
  {
   "cell_type": "code",
   "execution_count": 7,
   "metadata": {},
   "outputs": [],
   "source": [
    "def getParams(individual):\n",
    "    n_est = round(individual[0])\n",
    "    depth = round(individual[1])\n",
    "    criterion = ['gini', 'entropy'][round(individual[2])] \n",
    "    return n_est, depth, criterion\n",
    "\n",
    "\n",
    " #for tree classifier"
   ]
  },
  {
   "cell_type": "code",
   "execution_count": null,
   "metadata": {},
   "outputs": [],
   "source": []
  },
  {
   "cell_type": "code",
   "execution_count": 8,
   "metadata": {},
   "outputs": [
    {
     "data": {
      "text/plain": [
       "(95, 1, 'entropy')"
      ]
     },
     "execution_count": 8,
     "metadata": {},
     "output_type": "execute_result"
    }
   ],
   "source": [
    "getParams([94.81418290008662, 0.629829049481967, 0.56079237793822816])"
   ]
  },
  {
   "cell_type": "markdown",
   "metadata": {},
   "source": [
    "## Fitness Evaluation\n",
    "\n",
    "We use the accuracy of the machine learning algorithm - AdaBoostClassifier - for evaluation of the hyper parameters. "
   ]
  },
  {
   "cell_type": "code",
   "execution_count": 9,
   "metadata": {},
   "outputs": [],
   "source": [
    "from sklearn import model_selection\n",
    "from sklearn.ensemble import RandomForestClassifier\n",
    "\n",
    "kfold = model_selection.KFold(n_splits=10, random_state=42, shuffle=True)\n",
    "\n",
    "def getAccuracy(individual):\n",
    "    n_estimators, max_depth, criterion = getParams(individual)\n",
    "    classifier = RandomForestClassifier(random_state=69,\n",
    "                                         n_estimators=n_estimators,\n",
    "                                         max_depth=max_depth,\n",
    "                                         criterion=criterion\n",
    "                                         )\n",
    "\n",
    "    cv_results = model_selection.cross_val_score(classifier,\n",
    "                                                 X1,\n",
    "                                                 y1,\n",
    "                                                 cv=kfold,\n",
    "                                                 scoring='accuracy')\n",
    "    return cv_results.mean()"
   ]
  },
  {
   "cell_type": "code",
   "execution_count": null,
   "metadata": {},
   "outputs": [],
   "source": []
  },
  {
   "cell_type": "code",
   "execution_count": null,
   "metadata": {},
   "outputs": [],
   "source": []
  },
  {
   "cell_type": "markdown",
   "metadata": {},
   "source": [
    "### Population and Evaluation Fitness\n",
    "\n",
    "We register PopulationCreator and Evaluate with toolboox."
   ]
  },
  {
   "cell_type": "code",
   "execution_count": 10,
   "metadata": {},
   "outputs": [],
   "source": [
    "# create the population operator to generate a list of individuals:\n",
    "\n",
    "toolbox.register(\"populationCreator\", tools.initRepeat, list, \n",
    "                 toolbox.IndividualCreator)\n",
    "\n",
    "def classificationAccuracy(individual):\n",
    "    return getAccuracy(individual),\n",
    "toolbox.register(\"evaluate\", classificationAccuracy)\n",
    "\n",
    "# fitness calculation"
   ]
  },
  {
   "cell_type": "code",
   "execution_count": null,
   "metadata": {},
   "outputs": [],
   "source": []
  },
  {
   "cell_type": "code",
   "execution_count": 22,
   "metadata": {},
   "outputs": [],
   "source": [
    "# genetic operators:\n",
    "\n",
    "toolbox.register(\"mate\", tools.cxUniform, indpb = 0.7)\n",
    "toolbox.register(\"mutate\", tools.mutGaussian, mu=[6,1,0.2], sigma=[3,1,0.05], indpb=0.2)\n",
    "toolbox.register(\"select\", tools.selTournament, tournsize=3)\n"
   ]
  },
  {
   "cell_type": "markdown",
   "metadata": {},
   "source": [
    "## The main algorithm"
   ]
  },
  {
   "cell_type": "code",
   "execution_count": 23,
   "metadata": {
    "scrolled": true
   },
   "outputs": [
    {
     "name": "stdout",
     "output_type": "stream",
     "text": [
      "gen\tnevals\tmax    \tavg     \n",
      "0  \t40    \t0.81342\t0.734345\n",
      "1  \t37    \t0.81342\t0.769535\n",
      "2  \t37    \t0.813853\t0.797251\n",
      "3  \t39    \t0.813853\t0.804978\n",
      "4  \t39    \t0.813853\t0.810135\n",
      "5  \t35    \t0.813853\t0.811521\n",
      "6  \t32    \t0.818615\t0.812197\n",
      "7  \t40    \t0.818615\t0.813847\n",
      "8  \t35    \t0.818615\t0.811759\n",
      "9  \t30    \t0.818615\t0.813431\n",
      "10 \t38    \t0.818615\t0.814719\n",
      "- Best solution is: \n",
      "params =  [40.030369342232575, 7.943308126486621, 0.49409809599806287]\n",
      "Accuracy = 0.81861\n"
     ]
    }
   ],
   "source": [
    "from deap import algorithms\n",
    "\n",
    "# Genetic Algorithm constants:\n",
    "POPULATION_SIZE = 40\n",
    "P_CROSSOVER = 0.8  # probability for crossover\n",
    "P_MUTATION = 0.3  # probability for mutating an individual\n",
    "MAX_GENERATIONS = 10\n",
    "HALL_OF_FAME_SIZE = 5\n",
    "\n",
    "# create initial population (generation 0):\n",
    "population = toolbox.populationCreator(n=POPULATION_SIZE)\n",
    "\n",
    "# prepare the statistics object:\n",
    "stats = tools.Statistics(lambda ind: ind.fitness.values)\n",
    "stats.register(\"max\", np.max)\n",
    "stats.register(\"avg\", np.mean)\n",
    "\n",
    "# define the hall-of-fame object:\n",
    "hof = tools.HallOfFame(HALL_OF_FAME_SIZE)\n",
    "\n",
    "# perform the Genetic Algorithm flow with hof feature added:\n",
    "population, logbook = algorithms.eaSimple(population,\n",
    "                                          toolbox,\n",
    "                                          cxpb=P_CROSSOVER,\n",
    "                                          mutpb=P_MUTATION,\n",
    "                                          ngen=MAX_GENERATIONS,\n",
    "                                          stats=stats,\n",
    "                                          halloffame=hof,\n",
    "                                          verbose=True)\n",
    "\n",
    "# print best solution found:\n",
    "print(\"- Best solution is: \")\n",
    "print(\"params = \", hof.items[0])\n",
    "print(\"Accuracy = %1.5f\" % hof.items[0].fitness.values[0])"
   ]
  },
  {
   "cell_type": "code",
   "execution_count": null,
   "metadata": {},
   "outputs": [],
   "source": []
  },
  {
   "cell_type": "code",
   "execution_count": null,
   "metadata": {},
   "outputs": [],
   "source": []
  },
  {
   "cell_type": "code",
   "execution_count": 17,
   "metadata": {},
   "outputs": [
    {
     "name": "stdout",
     "output_type": "stream",
     "text": [
      "0.8186147186147187\n"
     ]
    }
   ],
   "source": [
    "print(getAccuracy([38, 8, 0]))"
   ]
  },
  {
   "cell_type": "code",
   "execution_count": null,
   "metadata": {},
   "outputs": [],
   "source": []
  },
  {
   "cell_type": "code",
   "execution_count": null,
   "metadata": {},
   "outputs": [],
   "source": []
  }
 ],
 "metadata": {
  "kernelspec": {
   "display_name": "Python 3 (ipykernel)",
   "language": "python",
   "name": "python3"
  },
  "language_info": {
   "codemirror_mode": {
    "name": "ipython",
    "version": 3
   },
   "file_extension": ".py",
   "mimetype": "text/x-python",
   "name": "python",
   "nbconvert_exporter": "python",
   "pygments_lexer": "ipython3",
   "version": "3.9.7"
  }
 },
 "nbformat": 4,
 "nbformat_minor": 4
}
